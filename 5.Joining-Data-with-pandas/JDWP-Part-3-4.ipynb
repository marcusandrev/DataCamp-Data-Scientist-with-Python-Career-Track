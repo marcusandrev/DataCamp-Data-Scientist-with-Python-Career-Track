{
 "cells": [
  {
   "cell_type": "markdown",
   "id": "830c21d1",
   "metadata": {},
   "source": [
    "# Joining Data with pandas Part 3 - 4\n",
    "\n",
    "## Course Description\n",
    "\n",
    "Being able to combine and work with multiple datasets is an essential skill for any aspiring Data Scientist. Pandas is a crucial cornerstone of the Python data science ecosystem, with Stack Overflow recording 5 million views for pandas questions. Learn to handle multiple DataFrames by combining, organizing, joining, and reshaping them using pandas. You'll work with datasets from the World Bank and the City Of Chicago. You will finish the course with a solid skillset for data-joining in pandas."
   ]
  },
  {
   "cell_type": "markdown",
   "id": "5bd12950",
   "metadata": {},
   "source": [
    "## Advance Merging and Concantenating\n"
   ]
  },
  {
   "cell_type": "markdown",
   "id": "c5fd6bd5",
   "metadata": {},
   "source": [
    "## Steps of a semi-join\n",
    "In the last video, you were shown how to perform a semi-join with pandas. In this exercise, you'll solidify your understanding of the necessary steps. Recall that a semi-join filters the left table to only the rows where a match exists in both the left and right tables.\n",
    "\n",
    "<b><u> Answer:<u/></b> <br />\n",
    "    1. Merge the left and right tables on key column using an inner-join. <br />\n",
    "    2. Search if the key column in the left table is in the merged tables using the <code>.isin()</code> method creating a Boolean <code>Series</code>. <br />\n",
    "    3. Subset the rows of the left table."
   ]
  },
  {
   "cell_type": "markdown",
   "id": "d1398311",
   "metadata": {},
   "source": [
    "### Performing an anti-join\n",
    "In our music streaming company dataset, each customer is assigned an employee representative to assist them. In this exercise, filter the employee table by a table of top customers, returning only those employees who are not assigned to a customer. The results should resemble the results of an anti-join. The company's leadership will assign these employees additional training so that they can work with high valued customers.\n",
    "\n",
    "<b>Instructions:</b>\n",
    "- Merge employees and top_cust with a left join, setting indicator argument to True. Save the result to empl_cust.\n"
   ]
  },
  {
   "cell_type": "code",
   "execution_count": null,
   "id": "ed939733",
   "metadata": {},
   "outputs": [],
   "source": [
    "# Can't find employees and top_cust datasets\n",
    "\n",
    "# Merge employees and top_cust\n",
    "empl_cust = employees.merge(top_cust, on='srid', \n",
    "                            how='left', indicator=True)\n",
    "\n",
    "# Select the srid column where _merge is left_only\n",
    "srid_list = empl_cust.loc[empl_cust['_merge'] == 'left_only', 'srid']\n",
    "\n",
    "# Get employees not working with top customers\n",
    "print(employees[employees['srid'].isin(srid_list)])"
   ]
  },
  {
   "cell_type": "markdown",
   "id": "fb661aed",
   "metadata": {},
   "source": [
    "### Performing a semi-join\n",
    "Some of the tracks that have generated the most significant amount of revenue are from TV-shows or are other non-musical audio. You have been given a table of invoices that include top revenue-generating items. Additionally, you have a table of non-musical tracks from the streaming service. In this exercise, you'll use a semi-join to find the top revenue-generating non-musical tracks.\n",
    "\n",
    "<b>Instructions:</b>\n",
    "- Merge non_mus_tcks and top_invoices on tid using an inner join. Save the result as tracks_invoices.\n",
    "- Use .isin() to subset the rows of non_mus_tck where tid is in the tid column of tracks_invoices. Save the result as top_tracks.\n",
    "- Group top_tracks by gid and count the tid rows. Save the result to cnt_by_gid.\n",
    "- Merge cnt_by_gid with the genres table on gid and print the result."
   ]
  },
  {
   "cell_type": "code",
   "execution_count": null,
   "id": "934fa96c",
   "metadata": {},
   "outputs": [],
   "source": [
    "# Can't find the datasets\n",
    "\n",
    "# Merge the non_mus_tck and top_invoices tables on tid\n",
    "tracks_invoices = non_mus_tcks.merge(top_invoices, on=\"tid\")\n",
    "\n",
    "# Use .isin() to subset non_mus_tcks to rows with tid in tracks_invoices\n",
    "top_tracks = non_mus_tcks[non_mus_tcks['tid'].isin(tracks_invoices['tid'])]\n",
    "\n",
    "# Group the top_tracks by gid and count the tid rows\n",
    "cnt_by_gid = top_tracks.groupby(['gid'], as_index=False).agg({'tid':\"count\"})\n",
    "\n",
    "# Merge the genres table to cnt_by_gid on gid and print\n",
    "print(cnt_by_gid.merge(genres, on=\"gid\"))"
   ]
  },
  {
   "cell_type": "markdown",
   "id": "f62f1308",
   "metadata": {},
   "source": [
    "### Concatenation basics\n",
    "You have been given a few tables of data with musical track info for different albums from the metal band, Metallica. The track info comes from their Ride The Lightning, Master Of Puppets, and St. Anger albums. Try various features of the .concat() method by concatenating the tables vertically together in different ways.\n",
    "\n",
    "<b>Instructions:</b>\n",
    "- Concatenate tracks_master, tracks_ride, and tracks_st, in that order, setting sort to True.\n",
    "- Concatenate tracks_master, tracks_ride, and tracks_st, where the index goes from 0 to n-1.\n",
    "- Concatenate tracks_master, tracks_ride, and tracks_st, showing only columns that are in all tables."
   ]
  },
  {
   "cell_type": "code",
   "execution_count": null,
   "id": "a593a4b1",
   "metadata": {},
   "outputs": [],
   "source": [
    "# No datasets\n",
    "\n",
    "# Concatenate tracks_master, tracks_ride, and tracks_st, in that order, setting sort to True.\n",
    "\n",
    "# Concatenate the tracks\n",
    "tracks_from_albums = pd.concat([tracks_master,tracks_ride,tracks_st],\n",
    "                               sort=True)\n",
    "print(tracks_from_albums)"
   ]
  },
  {
   "cell_type": "code",
   "execution_count": null,
   "id": "56056870",
   "metadata": {},
   "outputs": [],
   "source": [
    "# No datasets\n",
    "\n",
    "# Concatenate tracks_master, tracks_ride, and tracks_st, where the index goes from 0 to n-1.\n",
    "\n",
    "# Concatenate the tracks so the index goes from 0 to n-1\n",
    "tracks_from_albums = pd.concat([tracks_master,tracks_ride,tracks_st],\n",
    "                               ignore_index=True,\n",
    "                               sort=True)\n",
    "print(tracks_from_albums)"
   ]
  },
  {
   "cell_type": "code",
   "execution_count": null,
   "id": "06305ac7",
   "metadata": {},
   "outputs": [],
   "source": [
    "# No datasets\n",
    "\n",
    "# Concatenate tracks_master, tracks_ride, and tracks_st, showing only columns that are in all tables.\n",
    "\n",
    "\n",
    "# Concatenate the tracks, show only columns names that are in all tables\n",
    "tracks_from_albums = pd.concat([tracks_master,tracks_ride,tracks_st],\n",
    "                               join=\"inner\",\n",
    "                               sort=True)\n",
    "print(tracks_from_albums)"
   ]
  },
  {
   "cell_type": "markdown",
   "id": "2c56502c",
   "metadata": {},
   "source": [
    "### Concatenating with keys\n",
    "The leadership of the music streaming company has come to you and asked you for assistance in analyzing sales for a recent business quarter. They would like to know which month in the quarter saw the highest average invoice total. You have been given three tables with invoice data named inv_jul, inv_aug, and inv_sep. Concatenate these tables into one to create a graph of the average monthly invoice total.\n",
    "\n",
    "<b>Instructions:</b>\n",
    "- Concatenate the three tables together vertically in order with the oldest month first, adding '7Jul', '8Aug', and '9Sep' as keys for their respective months, and save to variable avg_inv_by_month.\n",
    "- Use the .agg() method to find the average of the total column from the grouped invoices.\n",
    "- Create a bar chart of avg_inv_by_month."
   ]
  },
  {
   "cell_type": "code",
   "execution_count": null,
   "id": "d987aacf",
   "metadata": {},
   "outputs": [],
   "source": [
    "# No datasets\n",
    "\n",
    "# Concatenate the tables and add keys\n",
    "inv_jul_thr_sep = pd.concat([inv_jul,inv_aug,inv_sep], \n",
    "                            keys=[\"7Jul\", \"8Aug\", \"9Sep\"])\n",
    "\n",
    "# Group the invoices by the index keys and find avg of the total column\n",
    "avg_inv_by_month = inv_jul_thr_sep.groupby(level=0).agg({'total':'mean'})\n",
    "\n",
    "# Bar plot of avg_inv_by_month\n",
    "avg_inv_by_month.plot(kind='bar')\n",
    "plt.show()"
   ]
  },
  {
   "cell_type": "markdown",
   "id": "b26a03f4",
   "metadata": {},
   "source": [
    "### Using the append method\n",
    "The .concat() method is excellent when you need a lot of control over how concatenation is performed. However, if you do not need as much control, then the .append() method is another option. You'll try this method out by appending the track lists together from different Metallica albums. From there, you will merge it with the invoice_items table to determine which track sold the most.\n",
    "\n",
    "<b>Instructions:</b>\n",
    "- Use the .append() method to combine (in this order)tracks_ride, tracks_master, and tracks_st together vertically, and save to metallica_tracks.\n",
    "- Merge metallica_tracks and invoice_items on tid with an inner join, and save to tracks_invoices.\n",
    "- For each tid and name in tracks_invoices, sum the quantity sold column, and save as tracks_sold.\n",
    "- Sort tracks_sold in descending order by the quantity column, and print the table."
   ]
  },
  {
   "cell_type": "code",
   "execution_count": null,
   "id": "9b9862d5",
   "metadata": {},
   "outputs": [],
   "source": [
    "# No datasets\n",
    "\n",
    "# Use the .append() method to combine the tracks tables\n",
    "metallica_tracks = tracks_ride.append([tracks_master, tracks_st], sort=False)\n",
    "\n",
    "# Merge metallica_tracks and invoice_items\n",
    "tracks_invoices = metallica_tracks.merge(invoice_items, on=\"tid\")\n",
    "\n",
    "# For each tid and name sum the quantity sold\n",
    "tracks_sold = tracks_invoices.groupby(['tid','name']).agg({\"quantity\":\"sum\"})\n",
    "\n",
    "# Sort in decending order by quantity and print the results\n",
    "print(tracks_sold.sort_values(['quantity'],ascending=False))"
   ]
  },
  {
   "cell_type": "markdown",
   "id": "f8a4fd4b",
   "metadata": {},
   "source": [
    "### Concatenate and merge to find common songs\n",
    "The senior leadership of the streaming service is requesting your help again. You are given the historical files for a popular playlist in the classical music genre in 2018 and 2019. Additionally, you are given a similar set of files for the most popular pop music genre playlist on the streaming service in 2018 and 2019. Your goal is to concatenate the respective files to make a large classical playlist table and overall popular music table. Then filter the classical music table using a semi-join to return only the most popular classical music tracks.\n",
    "\n",
    "<b>Instructions:</b>\n",
    "- Concatenate the classic_18 and classic_19 tables vertically where the index goes from 0 to n-1, and save to classic_18_19.\n",
    "- Concatenate the pop_18 and pop_19 tables vertically where the index goes from 0 to n-1, and save to pop_18_19.\n",
    "- With classic_18_19 on the left, merge it with pop_18_19 on tid using an inner join.\n",
    "- Use .isin() to filter classic_18_19 where tid is in classic_pop."
   ]
  },
  {
   "cell_type": "code",
   "execution_count": null,
   "id": "78ed10f1",
   "metadata": {},
   "outputs": [],
   "source": [
    "# No datasets\n",
    "\n",
    "# Concatenate the classic tables vertically\n",
    "classic_18_19 = pd.concat([classic_18, classic_19], ignore_index=True)\n",
    "\n",
    "# Concatenate the pop tables vertically\n",
    "pop_18_19 = pd.concat([pop_18, pop_19], ignore_index=True)\n",
    "\n",
    "# Merge classic_18_19 with pop_18_19\n",
    "classic_pop = classic_18_19.merge(pop_18_19, on=\"tid\", how=\"inner\")\n",
    "\n",
    "# Using .isin(), filter classic_18_19 rows where tid is in classic_pop\n",
    "popular_classic = classic_18_19[classic_18_19[\"tid\"].isin(classic_pop['tid'])]\n",
    "\n",
    "# Print popular chart\n",
    "print(popular_classic)"
   ]
  }
 ],
 "metadata": {
  "kernelspec": {
   "display_name": "Python 3",
   "language": "python",
   "name": "python3"
  },
  "language_info": {
   "codemirror_mode": {
    "name": "ipython",
    "version": 3
   },
   "file_extension": ".py",
   "mimetype": "text/x-python",
   "name": "python",
   "nbconvert_exporter": "python",
   "pygments_lexer": "ipython3",
   "version": "3.8.8"
  }
 },
 "nbformat": 4,
 "nbformat_minor": 5
}
