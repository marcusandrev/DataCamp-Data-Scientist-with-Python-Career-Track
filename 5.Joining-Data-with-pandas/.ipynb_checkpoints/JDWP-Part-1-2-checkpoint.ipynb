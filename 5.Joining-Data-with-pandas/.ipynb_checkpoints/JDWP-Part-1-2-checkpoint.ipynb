{
 "cells": [
  {
   "cell_type": "markdown",
   "id": "18f79919",
   "metadata": {},
   "source": [
    "# Joining Data with pandas\n",
    "\n",
    "## Course Description\n",
    "\n",
    "Being able to combine and work with multiple datasets is an essential skill for any aspiring Data Scientist. Pandas is a crucial cornerstone of the Python data science ecosystem, with Stack Overflow recording 5 million views for pandas questions. Learn to handle multiple DataFrames by combining, organizing, joining, and reshaping them using pandas. You'll work with datasets from the World Bank and the City Of Chicago. You will finish the course with a solid skillset for data-joining in pandas."
   ]
  },
  {
   "cell_type": "markdown",
   "id": "57c17621",
   "metadata": {},
   "source": [
    "## Data Merging Basics\n",
    "Learn how you can merge disparate data using inner joins. By combining information from multiple sources you’ll uncover compelling insights that may have previously been hidden. You’ll also learn how the relationship between those sources, such as one-to-one or one-to-many, can affect your result."
   ]
  },
  {
   "cell_type": "code",
   "execution_count": 11,
   "id": "0bb341ee",
   "metadata": {},
   "outputs": [
    {
     "data": {
      "text/html": [
       "<div>\n",
       "<style scoped>\n",
       "    .dataframe tbody tr th:only-of-type {\n",
       "        vertical-align: middle;\n",
       "    }\n",
       "\n",
       "    .dataframe tbody tr th {\n",
       "        vertical-align: top;\n",
       "    }\n",
       "\n",
       "    .dataframe thead th {\n",
       "        text-align: right;\n",
       "    }\n",
       "</style>\n",
       "<table border=\"1\" class=\"dataframe\">\n",
       "  <thead>\n",
       "    <tr style=\"text-align: right;\">\n",
       "      <th></th>\n",
       "      <th>rid</th>\n",
       "      <th>vid</th>\n",
       "      <th>owner</th>\n",
       "      <th>address</th>\n",
       "      <th>zip</th>\n",
       "    </tr>\n",
       "  </thead>\n",
       "  <tbody>\n",
       "    <tr>\n",
       "      <th>0</th>\n",
       "      <td>T6285</td>\n",
       "      <td>6285</td>\n",
       "      <td>AGEAN TAXI LLC</td>\n",
       "      <td>4536 N. ELSTON AVE.</td>\n",
       "      <td>60630</td>\n",
       "    </tr>\n",
       "    <tr>\n",
       "      <th>1</th>\n",
       "      <td>T4862</td>\n",
       "      <td>4862</td>\n",
       "      <td>MANGIB CORP.</td>\n",
       "      <td>5717 N. WASHTENAW AVE.</td>\n",
       "      <td>60659</td>\n",
       "    </tr>\n",
       "    <tr>\n",
       "      <th>2</th>\n",
       "      <td>T1495</td>\n",
       "      <td>1495</td>\n",
       "      <td>FUNRIDE, INC.</td>\n",
       "      <td>3351 W. ADDISON ST.</td>\n",
       "      <td>60618</td>\n",
       "    </tr>\n",
       "    <tr>\n",
       "      <th>3</th>\n",
       "      <td>T4231</td>\n",
       "      <td>4231</td>\n",
       "      <td>ALQUSH CORP.</td>\n",
       "      <td>6611 N. CAMPBELL AVE.</td>\n",
       "      <td>60645</td>\n",
       "    </tr>\n",
       "    <tr>\n",
       "      <th>4</th>\n",
       "      <td>T5971</td>\n",
       "      <td>5971</td>\n",
       "      <td>EUNIFFORD INC.</td>\n",
       "      <td>3351 W. ADDISON ST.</td>\n",
       "      <td>60618</td>\n",
       "    </tr>\n",
       "  </tbody>\n",
       "</table>\n",
       "</div>"
      ],
      "text/plain": [
       "     rid   vid           owner                 address    zip\n",
       "0  T6285  6285  AGEAN TAXI LLC     4536 N. ELSTON AVE.  60630\n",
       "1  T4862  4862    MANGIB CORP.  5717 N. WASHTENAW AVE.  60659\n",
       "2  T1495  1495   FUNRIDE, INC.     3351 W. ADDISON ST.  60618\n",
       "3  T4231  4231    ALQUSH CORP.   6611 N. CAMPBELL AVE.  60645\n",
       "4  T5971  5971  EUNIFFORD INC.     3351 W. ADDISON ST.  60618"
      ]
     },
     "execution_count": 11,
     "metadata": {},
     "output_type": "execute_result"
    }
   ],
   "source": [
    "import pandas as pd\n",
    "import pickle\n",
    "\n",
    "taxi_owners = pickle.load( open( \"datasets/taxi_owners.p\", \"rb\" ) )\n",
    "taxi_owners.head()"
   ]
  },
  {
   "cell_type": "code",
   "execution_count": 12,
   "id": "95dd3082",
   "metadata": {},
   "outputs": [
    {
     "data": {
      "text/html": [
       "<div>\n",
       "<style scoped>\n",
       "    .dataframe tbody tr th:only-of-type {\n",
       "        vertical-align: middle;\n",
       "    }\n",
       "\n",
       "    .dataframe tbody tr th {\n",
       "        vertical-align: top;\n",
       "    }\n",
       "\n",
       "    .dataframe thead th {\n",
       "        text-align: right;\n",
       "    }\n",
       "</style>\n",
       "<table border=\"1\" class=\"dataframe\">\n",
       "  <thead>\n",
       "    <tr style=\"text-align: right;\">\n",
       "      <th></th>\n",
       "      <th>vid</th>\n",
       "      <th>make</th>\n",
       "      <th>model</th>\n",
       "      <th>year</th>\n",
       "      <th>fuel_type</th>\n",
       "      <th>owner</th>\n",
       "    </tr>\n",
       "  </thead>\n",
       "  <tbody>\n",
       "    <tr>\n",
       "      <th>0</th>\n",
       "      <td>2767</td>\n",
       "      <td>TOYOTA</td>\n",
       "      <td>CAMRY</td>\n",
       "      <td>2013</td>\n",
       "      <td>HYBRID</td>\n",
       "      <td>SEYED M. BADRI</td>\n",
       "    </tr>\n",
       "    <tr>\n",
       "      <th>1</th>\n",
       "      <td>1411</td>\n",
       "      <td>TOYOTA</td>\n",
       "      <td>RAV4</td>\n",
       "      <td>2017</td>\n",
       "      <td>HYBRID</td>\n",
       "      <td>DESZY CORP.</td>\n",
       "    </tr>\n",
       "    <tr>\n",
       "      <th>2</th>\n",
       "      <td>6500</td>\n",
       "      <td>NISSAN</td>\n",
       "      <td>SENTRA</td>\n",
       "      <td>2019</td>\n",
       "      <td>GASOLINE</td>\n",
       "      <td>AGAPH CAB CORP</td>\n",
       "    </tr>\n",
       "    <tr>\n",
       "      <th>3</th>\n",
       "      <td>2746</td>\n",
       "      <td>TOYOTA</td>\n",
       "      <td>CAMRY</td>\n",
       "      <td>2013</td>\n",
       "      <td>HYBRID</td>\n",
       "      <td>MIDWEST CAB CO, INC</td>\n",
       "    </tr>\n",
       "    <tr>\n",
       "      <th>4</th>\n",
       "      <td>5922</td>\n",
       "      <td>TOYOTA</td>\n",
       "      <td>CAMRY</td>\n",
       "      <td>2013</td>\n",
       "      <td>HYBRID</td>\n",
       "      <td>SUMETTI CAB CO</td>\n",
       "    </tr>\n",
       "  </tbody>\n",
       "</table>\n",
       "</div>"
      ],
      "text/plain": [
       "    vid    make   model  year fuel_type                owner\n",
       "0  2767  TOYOTA   CAMRY  2013    HYBRID       SEYED M. BADRI\n",
       "1  1411  TOYOTA    RAV4  2017    HYBRID          DESZY CORP.\n",
       "2  6500  NISSAN  SENTRA  2019  GASOLINE       AGAPH CAB CORP\n",
       "3  2746  TOYOTA   CAMRY  2013    HYBRID  MIDWEST CAB CO, INC\n",
       "4  5922  TOYOTA   CAMRY  2013    HYBRID       SUMETTI CAB CO"
      ]
     },
     "execution_count": 12,
     "metadata": {},
     "output_type": "execute_result"
    }
   ],
   "source": [
    "taxi_veh = pickle.load( open( \"datasets/taxi_vehicles.p\", \"rb\" ) )\n",
    "taxi_veh.head()"
   ]
  },
  {
   "cell_type": "markdown",
   "id": "889921ed",
   "metadata": {},
   "source": [
    "### Your first inner join\n",
    "\n",
    "You have been tasked with figuring out what the most popular types of fuel used in Chicago taxis are. To complete the analysis, you need to merge the taxi_owners and taxi_veh tables together on the vid column. You can then use the merged table along with the .value_counts() method to find the most common fuel_type.\n",
    "\n",
    "Since you'll be working with pandas throughout the course, the package will be preloaded for you as pd in each exercise in this course. Also the taxi_owners and taxi_veh DataFrames are loaded for you."
   ]
  },
  {
   "cell_type": "code",
   "execution_count": 13,
   "id": "0f2604c8",
   "metadata": {},
   "outputs": [
    {
     "name": "stdout",
     "output_type": "stream",
     "text": [
      "Index(['rid', 'vid', 'owner_x', 'address', 'zip', 'make', 'model', 'year',\n",
      "       'fuel_type', 'owner_y'],\n",
      "      dtype='object')\n"
     ]
    }
   ],
   "source": [
    "# Merge the taxi_owners and taxi_veh tables\n",
    "taxi_own_veh = taxi_owners.merge(taxi_veh, on=\"vid\")\n",
    "\n",
    "# Print the column names of the taxi_own_veh\n",
    "print(taxi_own_veh.columns)"
   ]
  },
  {
   "cell_type": "code",
   "execution_count": 14,
   "id": "a45aac58",
   "metadata": {},
   "outputs": [
    {
     "name": "stdout",
     "output_type": "stream",
     "text": [
      "Index(['rid', 'vid', 'owner_own', 'address', 'zip', 'make', 'model', 'year',\n",
      "       'fuel_type', 'owner_veh'],\n",
      "      dtype='object')\n"
     ]
    }
   ],
   "source": [
    "# Merge the taxi_owners and taxi_veh tables setting a suffix\n",
    "taxi_own_veh = taxi_owners.merge(taxi_veh, on='vid', suffixes=(\"_own\",\"_veh\"))\n",
    "\n",
    "# Print the column names of taxi_own_veh\n",
    "print(taxi_own_veh.columns)"
   ]
  },
  {
   "cell_type": "code",
   "execution_count": 15,
   "id": "7541bd08",
   "metadata": {},
   "outputs": [
    {
     "name": "stdout",
     "output_type": "stream",
     "text": [
      "HYBRID                    2792\n",
      "GASOLINE                   611\n",
      "FLEX FUEL                   89\n",
      "COMPRESSED NATURAL GAS      27\n",
      "Name: fuel_type, dtype: int64\n"
     ]
    }
   ],
   "source": [
    "# Merge the taxi_owners and taxi_veh tables setting a suffix\n",
    "taxi_own_veh = taxi_owners.merge(taxi_veh, on='vid', suffixes=('_own','_veh'))\n",
    "\n",
    "# Print the value_counts to find the most popular fuel_type\n",
    "print(taxi_own_veh['fuel_type'].value_counts())"
   ]
  },
  {
   "cell_type": "markdown",
   "id": "91497b0e",
   "metadata": {},
   "source": [
    "### Inner joins and number of rows returned\n",
    "All of the merges you have studied to this point are called inner joins. It is necessary to understand that inner joins only return the rows with matching values in both tables. You will explore this further by reviewing the merge between the wards and census tables, then comparing it to merges of copies of these tables that are slightly altered, named wards_altered, and census_altered. The first row of the wards column has been changed in the altered tables. You will examine how this affects the merge between them. The tables have been loaded for you.\n",
    "\n",
    "For this exercise, it is important to know that the wards and census tables start with 50 rows."
   ]
  },
  {
   "cell_type": "code",
   "execution_count": 16,
   "id": "0dc1ad7b",
   "metadata": {},
   "outputs": [
    {
     "data": {
      "text/html": [
       "<div>\n",
       "<style scoped>\n",
       "    .dataframe tbody tr th:only-of-type {\n",
       "        vertical-align: middle;\n",
       "    }\n",
       "\n",
       "    .dataframe tbody tr th {\n",
       "        vertical-align: top;\n",
       "    }\n",
       "\n",
       "    .dataframe thead th {\n",
       "        text-align: right;\n",
       "    }\n",
       "</style>\n",
       "<table border=\"1\" class=\"dataframe\">\n",
       "  <thead>\n",
       "    <tr style=\"text-align: right;\">\n",
       "      <th></th>\n",
       "      <th>ward</th>\n",
       "      <th>alderman</th>\n",
       "      <th>address</th>\n",
       "      <th>zip</th>\n",
       "    </tr>\n",
       "  </thead>\n",
       "  <tbody>\n",
       "    <tr>\n",
       "      <th>0</th>\n",
       "      <td>1</td>\n",
       "      <td>Proco \"Joe\" Moreno</td>\n",
       "      <td>2058 NORTH WESTERN AVENUE</td>\n",
       "      <td>60647</td>\n",
       "    </tr>\n",
       "    <tr>\n",
       "      <th>1</th>\n",
       "      <td>2</td>\n",
       "      <td>Brian Hopkins</td>\n",
       "      <td>1400 NORTH  ASHLAND AVENUE</td>\n",
       "      <td>60622</td>\n",
       "    </tr>\n",
       "    <tr>\n",
       "      <th>2</th>\n",
       "      <td>3</td>\n",
       "      <td>Pat Dowell</td>\n",
       "      <td>5046 SOUTH STATE STREET</td>\n",
       "      <td>60609</td>\n",
       "    </tr>\n",
       "    <tr>\n",
       "      <th>3</th>\n",
       "      <td>4</td>\n",
       "      <td>William D. Burns</td>\n",
       "      <td>435 EAST 35TH STREET, 1ST FLOOR</td>\n",
       "      <td>60616</td>\n",
       "    </tr>\n",
       "    <tr>\n",
       "      <th>4</th>\n",
       "      <td>5</td>\n",
       "      <td>Leslie A. Hairston</td>\n",
       "      <td>2325 EAST 71ST STREET</td>\n",
       "      <td>60649</td>\n",
       "    </tr>\n",
       "  </tbody>\n",
       "</table>\n",
       "</div>"
      ],
      "text/plain": [
       "  ward            alderman                          address    zip\n",
       "0    1  Proco \"Joe\" Moreno        2058 NORTH WESTERN AVENUE  60647\n",
       "1    2       Brian Hopkins       1400 NORTH  ASHLAND AVENUE  60622\n",
       "2    3          Pat Dowell          5046 SOUTH STATE STREET  60609\n",
       "3    4    William D. Burns  435 EAST 35TH STREET, 1ST FLOOR  60616\n",
       "4    5  Leslie A. Hairston            2325 EAST 71ST STREET  60649"
      ]
     },
     "execution_count": 16,
     "metadata": {},
     "output_type": "execute_result"
    }
   ],
   "source": [
    "wards = pickle.load( open( \"datasets/ward.p\", \"rb\" ) )\n",
    "wards.head()"
   ]
  },
  {
   "cell_type": "code",
   "execution_count": 17,
   "id": "1814d8b4",
   "metadata": {},
   "outputs": [
    {
     "data": {
      "text/html": [
       "<div>\n",
       "<style scoped>\n",
       "    .dataframe tbody tr th:only-of-type {\n",
       "        vertical-align: middle;\n",
       "    }\n",
       "\n",
       "    .dataframe tbody tr th {\n",
       "        vertical-align: top;\n",
       "    }\n",
       "\n",
       "    .dataframe thead th {\n",
       "        text-align: right;\n",
       "    }\n",
       "</style>\n",
       "<table border=\"1\" class=\"dataframe\">\n",
       "  <thead>\n",
       "    <tr style=\"text-align: right;\">\n",
       "      <th></th>\n",
       "      <th>ward</th>\n",
       "      <th>pop_2000</th>\n",
       "      <th>pop_2010</th>\n",
       "      <th>change</th>\n",
       "      <th>address</th>\n",
       "      <th>zip</th>\n",
       "    </tr>\n",
       "  </thead>\n",
       "  <tbody>\n",
       "    <tr>\n",
       "      <th>0</th>\n",
       "      <td>1</td>\n",
       "      <td>52951</td>\n",
       "      <td>56149</td>\n",
       "      <td>6%</td>\n",
       "      <td>2765 WEST SAINT MARY STREET</td>\n",
       "      <td>60647</td>\n",
       "    </tr>\n",
       "    <tr>\n",
       "      <th>1</th>\n",
       "      <td>2</td>\n",
       "      <td>54361</td>\n",
       "      <td>55805</td>\n",
       "      <td>3%</td>\n",
       "      <td>WM WASTE MANAGEMENT 1500</td>\n",
       "      <td>60622</td>\n",
       "    </tr>\n",
       "    <tr>\n",
       "      <th>2</th>\n",
       "      <td>3</td>\n",
       "      <td>40385</td>\n",
       "      <td>53039</td>\n",
       "      <td>31%</td>\n",
       "      <td>17 EAST 38TH STREET</td>\n",
       "      <td>60653</td>\n",
       "    </tr>\n",
       "    <tr>\n",
       "      <th>3</th>\n",
       "      <td>4</td>\n",
       "      <td>51953</td>\n",
       "      <td>54589</td>\n",
       "      <td>5%</td>\n",
       "      <td>31ST ST HARBOR BUILDING LAKEFRONT TRAIL</td>\n",
       "      <td>60653</td>\n",
       "    </tr>\n",
       "    <tr>\n",
       "      <th>4</th>\n",
       "      <td>5</td>\n",
       "      <td>55302</td>\n",
       "      <td>51455</td>\n",
       "      <td>-7%</td>\n",
       "      <td>JACKSON PARK LAGOON SOUTH CORNELL DRIVE</td>\n",
       "      <td>60637</td>\n",
       "    </tr>\n",
       "  </tbody>\n",
       "</table>\n",
       "</div>"
      ],
      "text/plain": [
       "  ward  pop_2000  pop_2010 change                                  address  \\\n",
       "0    1     52951     56149     6%              2765 WEST SAINT MARY STREET   \n",
       "1    2     54361     55805     3%                 WM WASTE MANAGEMENT 1500   \n",
       "2    3     40385     53039    31%                      17 EAST 38TH STREET   \n",
       "3    4     51953     54589     5%  31ST ST HARBOR BUILDING LAKEFRONT TRAIL   \n",
       "4    5     55302     51455    -7%  JACKSON PARK LAGOON SOUTH CORNELL DRIVE   \n",
       "\n",
       "     zip  \n",
       "0  60647  \n",
       "1  60622  \n",
       "2  60653  \n",
       "3  60653  \n",
       "4  60637  "
      ]
     },
     "execution_count": 17,
     "metadata": {},
     "output_type": "execute_result"
    }
   ],
   "source": [
    "census = pickle.load( open( \"datasets/census.p\", \"rb\" ) )\n",
    "census.head()"
   ]
  },
  {
   "cell_type": "code",
   "execution_count": 18,
   "id": "da0336d6",
   "metadata": {},
   "outputs": [
    {
     "name": "stdout",
     "output_type": "stream",
     "text": [
      "wards_census table shape: (50, 9)\n"
     ]
    }
   ],
   "source": [
    "# Merge the wards and census tables on the ward column\n",
    "wards_census = wards.merge(census, on=\"ward\")\n",
    "\n",
    "# Print the shape of wards_census\n",
    "print('wards_census table shape:', wards_census.shape)"
   ]
  },
  {
   "cell_type": "code",
   "execution_count": 19,
   "id": "d4b46e1a",
   "metadata": {},
   "outputs": [
    {
     "name": "stderr",
     "output_type": "stream",
     "text": [
      "UsageError: Line magic function `%%script` not found.\n"
     ]
    }
   ],
   "source": [
    "# NO Altered dataframe\n",
    "\n",
    "\n",
    "# Print the first few rows of the wards_altered table to view the change \n",
    "print(wards_altered[['ward']].head())\n",
    "\n",
    "# Merge the wards_altered and census tables on the ward column\n",
    "wards_altered_census = wards_altered.merge(census, on=\"ward\")\n",
    "\n",
    "# Print the shape of wards_altered_census\n",
    "print('wards_altered_census table shape:', wards_altered_census.shape)"
   ]
  },
  {
   "cell_type": "code",
   "execution_count": null,
   "id": "31bdf657",
   "metadata": {},
   "outputs": [],
   "source": [
    "# NO Altered dataframe\n",
    "\n",
    "# Print the first few rows of the census_altered table to view the change \n",
    "print(census_altered[['ward']].head())\n",
    "\n",
    "# Merge the wards and census_altered tables on the ward column\n",
    "wards_census_altered = wards.merge(census_altered, on=\"ward\")\n",
    "\n",
    "# Print the shape of wards_census_altered\n",
    "print('wards_census_altered table shape:', wards_census_altered.shape)"
   ]
  },
  {
   "cell_type": "markdown",
   "id": "0a04fa84",
   "metadata": {},
   "source": [
    "### One-to-many classification\n",
    "Understanding the difference between a one-to-one and one-to-many relationship is a useful skill. In this exercise, consider a set of tables from an e-commerce website. The hypothetical tables are the following:\n",
    "\n",
    "- A customer table with information about each customer\n",
    "- A cust_tax_info table with customers unique tax IDs\n",
    "- An orders table with information about each order\n",
    "- A products table with details about each unique product sold\n",
    "- An inventory table with information on how much total inventory is available to sell for each product"
   ]
  },
  {
   "cell_type": "markdown",
   "id": "9189fe46",
   "metadata": {},
   "source": [
    "Select the relationship type that is most appropriate for the relationship between the different tables: One-to-one, or One-to-many.\n",
    "\n",
    "One-to-one:\n",
    "- the relationship between the customers and cust_tax_info\n",
    "- the relationship between the products and inventory\n",
    "\n",
    "One-to-many:\n",
    "- the relationship between the customers and oders\n",
    "- the relationship between the products and orders"
   ]
  },
  {
   "cell_type": "markdown",
   "id": "8b713e11",
   "metadata": {},
   "source": [
    "### One-to-many merge\n",
    "A business may have one or multiple owners. In this exercise, you will continue to gain experience with one-to-many merges by merging a table of business owners, called biz_owners, to the licenses table. Recall from the video lesson, with a one-to-many relationship, a row in the left table may be repeated if it is related to multiple rows in the right table. In this lesson, you will explore this further by finding out what is the most common business owner title. (i.e., secretary, CEO, or vice president)"
   ]
  },
  {
   "cell_type": "code",
   "execution_count": 20,
   "id": "c2e26bf6",
   "metadata": {},
   "outputs": [
    {
     "data": {
      "text/html": [
       "<div>\n",
       "<style scoped>\n",
       "    .dataframe tbody tr th:only-of-type {\n",
       "        vertical-align: middle;\n",
       "    }\n",
       "\n",
       "    .dataframe tbody tr th {\n",
       "        vertical-align: top;\n",
       "    }\n",
       "\n",
       "    .dataframe thead th {\n",
       "        text-align: right;\n",
       "    }\n",
       "</style>\n",
       "<table border=\"1\" class=\"dataframe\">\n",
       "  <thead>\n",
       "    <tr style=\"text-align: right;\">\n",
       "      <th></th>\n",
       "      <th>account</th>\n",
       "      <th>ward</th>\n",
       "      <th>aid</th>\n",
       "      <th>business</th>\n",
       "      <th>address</th>\n",
       "      <th>zip</th>\n",
       "    </tr>\n",
       "  </thead>\n",
       "  <tbody>\n",
       "    <tr>\n",
       "      <th>0</th>\n",
       "      <td>307071</td>\n",
       "      <td>3</td>\n",
       "      <td>743</td>\n",
       "      <td>REGGIE'S BAR &amp; GRILL</td>\n",
       "      <td>2105 S STATE ST</td>\n",
       "      <td>60616</td>\n",
       "    </tr>\n",
       "    <tr>\n",
       "      <th>1</th>\n",
       "      <td>10</td>\n",
       "      <td>10</td>\n",
       "      <td>829</td>\n",
       "      <td>HONEYBEERS</td>\n",
       "      <td>13200 S HOUSTON AVE</td>\n",
       "      <td>60633</td>\n",
       "    </tr>\n",
       "    <tr>\n",
       "      <th>2</th>\n",
       "      <td>10002</td>\n",
       "      <td>14</td>\n",
       "      <td>775</td>\n",
       "      <td>CELINA DELI</td>\n",
       "      <td>5089 S ARCHER AVE</td>\n",
       "      <td>60632</td>\n",
       "    </tr>\n",
       "    <tr>\n",
       "      <th>3</th>\n",
       "      <td>10005</td>\n",
       "      <td>12</td>\n",
       "      <td>NaN</td>\n",
       "      <td>KRAFT FOODS NORTH AMERICA</td>\n",
       "      <td>2005 W 43RD ST</td>\n",
       "      <td>60609</td>\n",
       "    </tr>\n",
       "    <tr>\n",
       "      <th>4</th>\n",
       "      <td>10044</td>\n",
       "      <td>44</td>\n",
       "      <td>638</td>\n",
       "      <td>NEYBOUR'S TAVERN &amp; GRILLE</td>\n",
       "      <td>3651 N SOUTHPORT AVE</td>\n",
       "      <td>60613</td>\n",
       "    </tr>\n",
       "  </tbody>\n",
       "</table>\n",
       "</div>"
      ],
      "text/plain": [
       "  account ward  aid                   business               address    zip\n",
       "0  307071    3  743       REGGIE'S BAR & GRILL       2105 S STATE ST  60616\n",
       "1      10   10  829                 HONEYBEERS   13200 S HOUSTON AVE  60633\n",
       "2   10002   14  775                CELINA DELI     5089 S ARCHER AVE  60632\n",
       "3   10005   12  NaN  KRAFT FOODS NORTH AMERICA        2005 W 43RD ST  60609\n",
       "4   10044   44  638  NEYBOUR'S TAVERN & GRILLE  3651 N SOUTHPORT AVE  60613"
      ]
     },
     "execution_count": 20,
     "metadata": {},
     "output_type": "execute_result"
    }
   ],
   "source": [
    "licenses = pickle.load( open( \"datasets/licenses.p\", \"rb\" ) )\n",
    "licenses.head()"
   ]
  },
  {
   "cell_type": "code",
   "execution_count": 21,
   "id": "91ffaa69",
   "metadata": {},
   "outputs": [
    {
     "data": {
      "text/html": [
       "<div>\n",
       "<style scoped>\n",
       "    .dataframe tbody tr th:only-of-type {\n",
       "        vertical-align: middle;\n",
       "    }\n",
       "\n",
       "    .dataframe tbody tr th {\n",
       "        vertical-align: top;\n",
       "    }\n",
       "\n",
       "    .dataframe thead th {\n",
       "        text-align: right;\n",
       "    }\n",
       "</style>\n",
       "<table border=\"1\" class=\"dataframe\">\n",
       "  <thead>\n",
       "    <tr style=\"text-align: right;\">\n",
       "      <th></th>\n",
       "      <th>account</th>\n",
       "      <th>first_name</th>\n",
       "      <th>last_name</th>\n",
       "      <th>title</th>\n",
       "    </tr>\n",
       "  </thead>\n",
       "  <tbody>\n",
       "    <tr>\n",
       "      <th>0</th>\n",
       "      <td>10</td>\n",
       "      <td>PEARL</td>\n",
       "      <td>SHERMAN</td>\n",
       "      <td>PRESIDENT</td>\n",
       "    </tr>\n",
       "    <tr>\n",
       "      <th>1</th>\n",
       "      <td>10</td>\n",
       "      <td>PEARL</td>\n",
       "      <td>SHERMAN</td>\n",
       "      <td>SECRETARY</td>\n",
       "    </tr>\n",
       "    <tr>\n",
       "      <th>2</th>\n",
       "      <td>10002</td>\n",
       "      <td>WALTER</td>\n",
       "      <td>MROZEK</td>\n",
       "      <td>PARTNER</td>\n",
       "    </tr>\n",
       "    <tr>\n",
       "      <th>3</th>\n",
       "      <td>10002</td>\n",
       "      <td>CELINA</td>\n",
       "      <td>BYRDAK</td>\n",
       "      <td>PARTNER</td>\n",
       "    </tr>\n",
       "    <tr>\n",
       "      <th>4</th>\n",
       "      <td>10005</td>\n",
       "      <td>IRENE</td>\n",
       "      <td>ROSENFELD</td>\n",
       "      <td>PRESIDENT</td>\n",
       "    </tr>\n",
       "  </tbody>\n",
       "</table>\n",
       "</div>"
      ],
      "text/plain": [
       "  account first_name  last_name      title\n",
       "0      10      PEARL    SHERMAN  PRESIDENT\n",
       "1      10      PEARL    SHERMAN  SECRETARY\n",
       "2   10002     WALTER     MROZEK    PARTNER\n",
       "3   10002     CELINA     BYRDAK    PARTNER\n",
       "4   10005      IRENE  ROSENFELD  PRESIDENT"
      ]
     },
     "execution_count": 21,
     "metadata": {},
     "output_type": "execute_result"
    }
   ],
   "source": [
    "biz_owners = pickle.load( open( \"datasets/business_owners.p\", \"rb\" ) )\n",
    "biz_owners.head()"
   ]
  },
  {
   "cell_type": "code",
   "execution_count": 22,
   "id": "bb68d7cc",
   "metadata": {},
   "outputs": [
    {
     "name": "stdout",
     "output_type": "stream",
     "text": [
      "                 account\n",
      "title                   \n",
      "PRESIDENT           6259\n",
      "SECRETARY           5205\n",
      "SOLE PROPRIETOR     1658\n",
      "OTHER               1200\n",
      "VICE PRESIDENT       970\n"
     ]
    }
   ],
   "source": [
    "# Merge the licenses and biz_owners table on account\n",
    "licenses_owners = licenses.merge(biz_owners, on=\"account\")\n",
    "\n",
    "# Group the results by title then count the number of accounts\n",
    "counted_df = licenses_owners.groupby(\"title\").agg({'account':'count'})\n",
    "\n",
    "# Sort the counted_df in desending order\n",
    "sorted_df = counted_df.sort_values(\"account\",ascending=False)\n",
    "\n",
    "# Use .head() method to print the first few rows of sorted_df\n",
    "print(sorted_df.head())"
   ]
  },
  {
   "cell_type": "markdown",
   "id": "93a43ef9",
   "metadata": {},
   "source": [
    "### Total riders in a month\n",
    "Your goal is to find the total number of rides provided to passengers passing through the Wilson station (station_name == 'Wilson') when riding Chicago's public transportation system on weekdays (day_type == 'Weekday') in July (month == 7). Luckily, Chicago provides this detailed data, but it is in three different tables. You will work on merging these tables together to answer the question. This data is different from the business related data you have seen so far, but all the information you need to answer the question is below."
   ]
  },
  {
   "cell_type": "code",
   "execution_count": 23,
   "id": "10c9c4bf",
   "metadata": {},
   "outputs": [
    {
     "data": {
      "text/html": [
       "<div>\n",
       "<style scoped>\n",
       "    .dataframe tbody tr th:only-of-type {\n",
       "        vertical-align: middle;\n",
       "    }\n",
       "\n",
       "    .dataframe tbody tr th {\n",
       "        vertical-align: top;\n",
       "    }\n",
       "\n",
       "    .dataframe thead th {\n",
       "        text-align: right;\n",
       "    }\n",
       "</style>\n",
       "<table border=\"1\" class=\"dataframe\">\n",
       "  <thead>\n",
       "    <tr style=\"text-align: right;\">\n",
       "      <th></th>\n",
       "      <th>year</th>\n",
       "      <th>month</th>\n",
       "      <th>day</th>\n",
       "      <th>day_type</th>\n",
       "    </tr>\n",
       "  </thead>\n",
       "  <tbody>\n",
       "    <tr>\n",
       "      <th>0</th>\n",
       "      <td>2019</td>\n",
       "      <td>1</td>\n",
       "      <td>1</td>\n",
       "      <td>Sunday/Holiday</td>\n",
       "    </tr>\n",
       "    <tr>\n",
       "      <th>1</th>\n",
       "      <td>2019</td>\n",
       "      <td>1</td>\n",
       "      <td>2</td>\n",
       "      <td>Weekday</td>\n",
       "    </tr>\n",
       "    <tr>\n",
       "      <th>2</th>\n",
       "      <td>2019</td>\n",
       "      <td>1</td>\n",
       "      <td>3</td>\n",
       "      <td>Weekday</td>\n",
       "    </tr>\n",
       "    <tr>\n",
       "      <th>3</th>\n",
       "      <td>2019</td>\n",
       "      <td>1</td>\n",
       "      <td>4</td>\n",
       "      <td>Weekday</td>\n",
       "    </tr>\n",
       "    <tr>\n",
       "      <th>4</th>\n",
       "      <td>2019</td>\n",
       "      <td>1</td>\n",
       "      <td>5</td>\n",
       "      <td>Saturday</td>\n",
       "    </tr>\n",
       "  </tbody>\n",
       "</table>\n",
       "</div>"
      ],
      "text/plain": [
       "   year  month  day        day_type\n",
       "0  2019      1    1  Sunday/Holiday\n",
       "1  2019      1    2         Weekday\n",
       "2  2019      1    3         Weekday\n",
       "3  2019      1    4         Weekday\n",
       "4  2019      1    5        Saturday"
      ]
     },
     "execution_count": 23,
     "metadata": {},
     "output_type": "execute_result"
    }
   ],
   "source": [
    "cal = pickle.load( open( \"datasets/cta_calendar.p\", \"rb\" ) )\n",
    "cal.head()"
   ]
  },
  {
   "cell_type": "code",
   "execution_count": 24,
   "id": "5ddc0f1e",
   "metadata": {},
   "outputs": [
    {
     "data": {
      "text/html": [
       "<div>\n",
       "<style scoped>\n",
       "    .dataframe tbody tr th:only-of-type {\n",
       "        vertical-align: middle;\n",
       "    }\n",
       "\n",
       "    .dataframe tbody tr th {\n",
       "        vertical-align: top;\n",
       "    }\n",
       "\n",
       "    .dataframe thead th {\n",
       "        text-align: right;\n",
       "    }\n",
       "</style>\n",
       "<table border=\"1\" class=\"dataframe\">\n",
       "  <thead>\n",
       "    <tr style=\"text-align: right;\">\n",
       "      <th></th>\n",
       "      <th>station_id</th>\n",
       "      <th>year</th>\n",
       "      <th>month</th>\n",
       "      <th>day</th>\n",
       "      <th>rides</th>\n",
       "    </tr>\n",
       "  </thead>\n",
       "  <tbody>\n",
       "    <tr>\n",
       "      <th>0</th>\n",
       "      <td>40010</td>\n",
       "      <td>2019</td>\n",
       "      <td>1</td>\n",
       "      <td>1</td>\n",
       "      <td>576</td>\n",
       "    </tr>\n",
       "    <tr>\n",
       "      <th>1</th>\n",
       "      <td>40010</td>\n",
       "      <td>2019</td>\n",
       "      <td>1</td>\n",
       "      <td>2</td>\n",
       "      <td>1457</td>\n",
       "    </tr>\n",
       "    <tr>\n",
       "      <th>2</th>\n",
       "      <td>40010</td>\n",
       "      <td>2019</td>\n",
       "      <td>1</td>\n",
       "      <td>3</td>\n",
       "      <td>1543</td>\n",
       "    </tr>\n",
       "    <tr>\n",
       "      <th>3</th>\n",
       "      <td>40010</td>\n",
       "      <td>2019</td>\n",
       "      <td>1</td>\n",
       "      <td>4</td>\n",
       "      <td>1621</td>\n",
       "    </tr>\n",
       "    <tr>\n",
       "      <th>4</th>\n",
       "      <td>40010</td>\n",
       "      <td>2019</td>\n",
       "      <td>1</td>\n",
       "      <td>5</td>\n",
       "      <td>719</td>\n",
       "    </tr>\n",
       "  </tbody>\n",
       "</table>\n",
       "</div>"
      ],
      "text/plain": [
       "  station_id  year  month  day  rides\n",
       "0      40010  2019      1    1    576\n",
       "1      40010  2019      1    2   1457\n",
       "2      40010  2019      1    3   1543\n",
       "3      40010  2019      1    4   1621\n",
       "4      40010  2019      1    5    719"
      ]
     },
     "execution_count": 24,
     "metadata": {},
     "output_type": "execute_result"
    }
   ],
   "source": [
    "ridership = pickle.load( open( \"datasets/cta_ridership.p\", \"rb\" ) )\n",
    "ridership.head()"
   ]
  },
  {
   "cell_type": "code",
   "execution_count": 25,
   "id": "414b39d4",
   "metadata": {},
   "outputs": [
    {
     "data": {
      "text/html": [
       "<div>\n",
       "<style scoped>\n",
       "    .dataframe tbody tr th:only-of-type {\n",
       "        vertical-align: middle;\n",
       "    }\n",
       "\n",
       "    .dataframe tbody tr th {\n",
       "        vertical-align: top;\n",
       "    }\n",
       "\n",
       "    .dataframe thead th {\n",
       "        text-align: right;\n",
       "    }\n",
       "</style>\n",
       "<table border=\"1\" class=\"dataframe\">\n",
       "  <thead>\n",
       "    <tr style=\"text-align: right;\">\n",
       "      <th></th>\n",
       "      <th>station_id</th>\n",
       "      <th>station_name</th>\n",
       "      <th>location</th>\n",
       "    </tr>\n",
       "  </thead>\n",
       "  <tbody>\n",
       "    <tr>\n",
       "      <th>0</th>\n",
       "      <td>40010</td>\n",
       "      <td>Austin-Forest Park</td>\n",
       "      <td>(41.870851, -87.776812)</td>\n",
       "    </tr>\n",
       "    <tr>\n",
       "      <th>1</th>\n",
       "      <td>40020</td>\n",
       "      <td>Harlem-Lake</td>\n",
       "      <td>(41.886848, -87.803176)</td>\n",
       "    </tr>\n",
       "    <tr>\n",
       "      <th>2</th>\n",
       "      <td>40030</td>\n",
       "      <td>Pulaski-Lake</td>\n",
       "      <td>(41.885412, -87.725404)</td>\n",
       "    </tr>\n",
       "    <tr>\n",
       "      <th>3</th>\n",
       "      <td>40040</td>\n",
       "      <td>Quincy/Wells</td>\n",
       "      <td>(41.878723, -87.63374)</td>\n",
       "    </tr>\n",
       "    <tr>\n",
       "      <th>4</th>\n",
       "      <td>40050</td>\n",
       "      <td>Davis</td>\n",
       "      <td>(42.04771, -87.683543)</td>\n",
       "    </tr>\n",
       "  </tbody>\n",
       "</table>\n",
       "</div>"
      ],
      "text/plain": [
       "  station_id        station_name                 location\n",
       "0      40010  Austin-Forest Park  (41.870851, -87.776812)\n",
       "1      40020         Harlem-Lake  (41.886848, -87.803176)\n",
       "2      40030        Pulaski-Lake  (41.885412, -87.725404)\n",
       "3      40040        Quincy/Wells   (41.878723, -87.63374)\n",
       "4      40050               Davis   (42.04771, -87.683543)"
      ]
     },
     "execution_count": 25,
     "metadata": {},
     "output_type": "execute_result"
    }
   ],
   "source": [
    "stations = pickle.load( open( \"datasets/stations.p\", \"rb\" ) )\n",
    "stations.head()"
   ]
  },
  {
   "cell_type": "code",
   "execution_count": 26,
   "id": "7930f77b",
   "metadata": {},
   "outputs": [
    {
     "name": "stdout",
     "output_type": "stream",
     "text": [
      "140005\n"
     ]
    }
   ],
   "source": [
    "# Merge the ridership, cal, and stations tables\n",
    "ridership_cal_stations = ridership.merge(cal, on=['year','month','day']) \\\n",
    "\t\t\t\t\t\t\t.merge(stations, on='station_id')\n",
    "\n",
    "# Create a filter to filter ridership_cal_stations\n",
    "filter_criteria = ((ridership_cal_stations['month'] == 7) \n",
    "                   & (ridership_cal_stations['day_type'] == 'Weekday') \n",
    "                   & (ridership_cal_stations['station_name'] == 'Wilson'))\n",
    "\n",
    "# Use .loc and the filter to select for rides\n",
    "print(ridership_cal_stations.loc[filter_criteria, 'rides'].sum())"
   ]
  },
  {
   "cell_type": "markdown",
   "id": "f491b905",
   "metadata": {},
   "source": [
    "### Three table merge\n",
    "To solidify the concept of a three DataFrame merge, practice another exercise. A reasonable extension of our review of Chicago business data would include looking at demographics information about the neighborhoods where the businesses are. A table with the median income by zip code has been provided to you. You will merge the licenses and wards tables with this new income-by-zip-code table called zip_demo."
   ]
  },
  {
   "cell_type": "code",
   "execution_count": 27,
   "id": "e115acf1",
   "metadata": {},
   "outputs": [
    {
     "data": {
      "text/html": [
       "<div>\n",
       "<style scoped>\n",
       "    .dataframe tbody tr th:only-of-type {\n",
       "        vertical-align: middle;\n",
       "    }\n",
       "\n",
       "    .dataframe tbody tr th {\n",
       "        vertical-align: top;\n",
       "    }\n",
       "\n",
       "    .dataframe thead th {\n",
       "        text-align: right;\n",
       "    }\n",
       "</style>\n",
       "<table border=\"1\" class=\"dataframe\">\n",
       "  <thead>\n",
       "    <tr style=\"text-align: right;\">\n",
       "      <th></th>\n",
       "      <th>zip</th>\n",
       "      <th>income</th>\n",
       "    </tr>\n",
       "  </thead>\n",
       "  <tbody>\n",
       "    <tr>\n",
       "      <th>0</th>\n",
       "      <td>60630</td>\n",
       "      <td>70122</td>\n",
       "    </tr>\n",
       "    <tr>\n",
       "      <th>1</th>\n",
       "      <td>60640</td>\n",
       "      <td>50488</td>\n",
       "    </tr>\n",
       "    <tr>\n",
       "      <th>2</th>\n",
       "      <td>60622</td>\n",
       "      <td>87143</td>\n",
       "    </tr>\n",
       "    <tr>\n",
       "      <th>3</th>\n",
       "      <td>60614</td>\n",
       "      <td>100116</td>\n",
       "    </tr>\n",
       "    <tr>\n",
       "      <th>4</th>\n",
       "      <td>60608</td>\n",
       "      <td>41226</td>\n",
       "    </tr>\n",
       "  </tbody>\n",
       "</table>\n",
       "</div>"
      ],
      "text/plain": [
       "     zip  income\n",
       "0  60630   70122\n",
       "1  60640   50488\n",
       "2  60622   87143\n",
       "3  60614  100116\n",
       "4  60608   41226"
      ]
     },
     "execution_count": 27,
     "metadata": {},
     "output_type": "execute_result"
    }
   ],
   "source": [
    "zip_demo = pickle.load( open( \"datasets/zip_demo.p\", \"rb\" ) )\n",
    "zip_demo.head()"
   ]
  },
  {
   "cell_type": "code",
   "execution_count": 28,
   "id": "6d479c50",
   "metadata": {},
   "outputs": [
    {
     "name": "stdout",
     "output_type": "stream",
     "text": [
      "                           income\n",
      "alderman                         \n",
      "Ameya Pawar                 66246\n",
      "Anthony A. Beale            38206\n",
      "Anthony V. Napolitano       82226\n",
      "Ariel E. Reyboras           41307\n",
      "Brendan Reilly             110215\n",
      "Brian Hopkins               87143\n",
      "Carlos Ramirez-Rosa         66246\n",
      "Carrie M. Austin            38206\n",
      "Chris Taliaferro            55566\n",
      "Daniel \"Danny\" Solis        41226\n",
      "David H. Moore              33304\n",
      "Deborah Mell                66246\n",
      "Debra L. Silverstein        50554\n",
      "Derrick G. Curtis           65770\n",
      "Edward M. Burke             42335\n",
      "Emma M. Mitts               36283\n",
      "George Cardenas             33959\n",
      "Gilbert Villegas            41307\n",
      "Gregory I. Mitchell         24941\n",
      "Harry Osterman              45442\n",
      "Howard B. Brookins, Jr.     33304\n",
      "James Cappleman             79565\n",
      "Jason C. Ervin              41226\n",
      "Joe Moore                   39163\n",
      "John S. Arena               70122\n",
      "Leslie A. Hairston          28024\n",
      "Margaret Laurino            70122\n",
      "Marty Quinn                 67045\n",
      "Matthew J. O'Shea           59488\n",
      "Michael R. Zalewski         42335\n",
      "Michael Scott, Jr.          31445\n",
      "Michelle A. Harris          32558\n",
      "Michelle Smith             100116\n",
      "Milagros \"Milly\" Santiago   41307\n",
      "Nicholas Sposato            62223\n",
      "Pat Dowell                  46340\n",
      "Patrick Daley Thompson      41226\n",
      "Patrick J. O'Connor         50554\n",
      "Proco \"Joe\" Moreno          87143\n",
      "Raymond A. Lopez            33959\n",
      "Ricardo Munoz               31445\n",
      "Roberto Maldonado           68223\n",
      "Roderick T. Sawyer          32558\n",
      "Scott Waguespack            68223\n",
      "Susan Sadlowski Garza       38417\n",
      "Tom Tunney                  88708\n",
      "Toni L. Foulkes             27573\n",
      "Walter Burnett, Jr.         87143\n",
      "William D. Burns           107811\n",
      "Willie B. Cochran           28024\n"
     ]
    }
   ],
   "source": [
    "# Merge licenses and zip_demo, on zip; and merge the wards on ward\n",
    "licenses_zip_ward = licenses.merge(zip_demo, on=\"zip\")\\\n",
    "            \t\t\t.merge(wards, on=\"ward\")\n",
    "\n",
    "# Print the results by alderman and show median income\n",
    "print(licenses_zip_ward.groupby(\"alderman\").agg({'income':'median'}))"
   ]
  },
  {
   "cell_type": "markdown",
   "id": "1ebbe426",
   "metadata": {},
   "source": [
    "### One-to-many merge with multiple tables\n",
    "In this exercise, assume that you are looking to start a business in the city of Chicago. Your perfect idea is to start a company that uses goats to mow the lawn for other businesses. However, you have to choose a location in the city to put your goat farm. You need a location with a great deal of space and relatively few businesses and people around to avoid complaints about the smell. You will need to merge three tables to help you choose your location. The land_use table has info on the percentage of vacant land by city ward. The census table has population by ward, and the licenses table lists businesses by ward."
   ]
  },
  {
   "cell_type": "code",
   "execution_count": 29,
   "id": "13332db5",
   "metadata": {},
   "outputs": [
    {
     "data": {
      "text/html": [
       "<div>\n",
       "<style scoped>\n",
       "    .dataframe tbody tr th:only-of-type {\n",
       "        vertical-align: middle;\n",
       "    }\n",
       "\n",
       "    .dataframe tbody tr th {\n",
       "        vertical-align: top;\n",
       "    }\n",
       "\n",
       "    .dataframe thead th {\n",
       "        text-align: right;\n",
       "    }\n",
       "</style>\n",
       "<table border=\"1\" class=\"dataframe\">\n",
       "  <thead>\n",
       "    <tr style=\"text-align: right;\">\n",
       "      <th></th>\n",
       "      <th>ward</th>\n",
       "      <th>residential</th>\n",
       "      <th>commercial</th>\n",
       "      <th>industrial</th>\n",
       "      <th>vacant</th>\n",
       "      <th>other</th>\n",
       "    </tr>\n",
       "  </thead>\n",
       "  <tbody>\n",
       "    <tr>\n",
       "      <th>0</th>\n",
       "      <td>1</td>\n",
       "      <td>41</td>\n",
       "      <td>9</td>\n",
       "      <td>2</td>\n",
       "      <td>2</td>\n",
       "      <td>46</td>\n",
       "    </tr>\n",
       "    <tr>\n",
       "      <th>1</th>\n",
       "      <td>2</td>\n",
       "      <td>31</td>\n",
       "      <td>11</td>\n",
       "      <td>6</td>\n",
       "      <td>2</td>\n",
       "      <td>50</td>\n",
       "    </tr>\n",
       "    <tr>\n",
       "      <th>2</th>\n",
       "      <td>3</td>\n",
       "      <td>20</td>\n",
       "      <td>5</td>\n",
       "      <td>3</td>\n",
       "      <td>13</td>\n",
       "      <td>59</td>\n",
       "    </tr>\n",
       "    <tr>\n",
       "      <th>3</th>\n",
       "      <td>4</td>\n",
       "      <td>22</td>\n",
       "      <td>13</td>\n",
       "      <td>0</td>\n",
       "      <td>7</td>\n",
       "      <td>58</td>\n",
       "    </tr>\n",
       "    <tr>\n",
       "      <th>4</th>\n",
       "      <td>5</td>\n",
       "      <td>25</td>\n",
       "      <td>3</td>\n",
       "      <td>1</td>\n",
       "      <td>3</td>\n",
       "      <td>68</td>\n",
       "    </tr>\n",
       "  </tbody>\n",
       "</table>\n",
       "</div>"
      ],
      "text/plain": [
       "  ward  residential  commercial  industrial  vacant  other\n",
       "0    1           41           9           2       2     46\n",
       "1    2           31          11           6       2     50\n",
       "2    3           20           5           3      13     59\n",
       "3    4           22          13           0       7     58\n",
       "4    5           25           3           1       3     68"
      ]
     },
     "execution_count": 29,
     "metadata": {},
     "output_type": "execute_result"
    }
   ],
   "source": [
    "land_use = pickle.load( open( \"datasets/land_use.p\", \"rb\" ) )\n",
    "land_use.head()"
   ]
  },
  {
   "cell_type": "code",
   "execution_count": 30,
   "id": "ba6ff0b0",
   "metadata": {},
   "outputs": [
    {
     "name": "stdout",
     "output_type": "stream",
     "text": [
      "   ward  pop_2010  vacant  account\n",
      "47    7     51581      19       80\n",
      "12   20     52372      15      123\n",
      "1    10     51535      14      130\n",
      "16   24     54909      13       98\n",
      "7    16     51954      13      156\n"
     ]
    }
   ],
   "source": [
    "# Merge land_use and census and merge result with licenses including suffixes\n",
    "land_cen_lic = land_use.merge(census, on='ward') \\\n",
    "                    .merge(licenses, on='ward', suffixes=('_cen','_lic'))\n",
    "\n",
    "# Group by ward, pop_2010, and vacant, then count the # of accounts\n",
    "pop_vac_lic = land_cen_lic.groupby(['ward','pop_2010','vacant'], \n",
    "                                   as_index=False).agg({'account':'count'})\n",
    "\n",
    "# Sort pop_vac_lic and print the results\n",
    "sorted_pop_vac_lic = pop_vac_lic.sort_values([\"vacant\", \"account\", \"pop_2010\"], \n",
    "                                             ascending=[False,True,True])\n",
    "\n",
    "# Print the top few rows of sorted_pop_vac_lic\n",
    "print(sorted_pop_vac_lic.head())"
   ]
  },
  {
   "cell_type": "markdown",
   "id": "4ba6121a",
   "metadata": {},
   "source": [
    "## Merging Tables With Different Join Types\n",
    "Take your knowledge of joins to the next level. In this chapter, you’ll work with TMDb movie data as you learn about left, right, and outer joins. You’ll also discover how to merge a table to itself and merge on a DataFrame index."
   ]
  },
  {
   "cell_type": "markdown",
   "id": "3c3ae42a",
   "metadata": {},
   "source": [
    "### Counting missing rows with left join\n",
    "The Movie Database is supported by volunteers going out into the world, collecting data, and entering it into the database. This includes financial data, such as movie budget and revenue. If you wanted to know which movies are still missing data, you could use a left join to identify them. Practice using a left join by merging the movies table and the financials table."
   ]
  },
  {
   "cell_type": "code",
   "execution_count": 31,
   "id": "d9789894",
   "metadata": {},
   "outputs": [
    {
     "data": {
      "text/html": [
       "<div>\n",
       "<style scoped>\n",
       "    .dataframe tbody tr th:only-of-type {\n",
       "        vertical-align: middle;\n",
       "    }\n",
       "\n",
       "    .dataframe tbody tr th {\n",
       "        vertical-align: top;\n",
       "    }\n",
       "\n",
       "    .dataframe thead th {\n",
       "        text-align: right;\n",
       "    }\n",
       "</style>\n",
       "<table border=\"1\" class=\"dataframe\">\n",
       "  <thead>\n",
       "    <tr style=\"text-align: right;\">\n",
       "      <th></th>\n",
       "      <th>id</th>\n",
       "      <th>title</th>\n",
       "      <th>popularity</th>\n",
       "      <th>release_date</th>\n",
       "    </tr>\n",
       "  </thead>\n",
       "  <tbody>\n",
       "    <tr>\n",
       "      <th>0</th>\n",
       "      <td>257</td>\n",
       "      <td>Oliver Twist</td>\n",
       "      <td>20.415572</td>\n",
       "      <td>2005-09-23</td>\n",
       "    </tr>\n",
       "    <tr>\n",
       "      <th>1</th>\n",
       "      <td>14290</td>\n",
       "      <td>Better Luck Tomorrow</td>\n",
       "      <td>3.877036</td>\n",
       "      <td>2002-01-12</td>\n",
       "    </tr>\n",
       "    <tr>\n",
       "      <th>2</th>\n",
       "      <td>38365</td>\n",
       "      <td>Grown Ups</td>\n",
       "      <td>38.864027</td>\n",
       "      <td>2010-06-24</td>\n",
       "    </tr>\n",
       "    <tr>\n",
       "      <th>3</th>\n",
       "      <td>9672</td>\n",
       "      <td>Infamous</td>\n",
       "      <td>3.680896</td>\n",
       "      <td>2006-11-16</td>\n",
       "    </tr>\n",
       "    <tr>\n",
       "      <th>4</th>\n",
       "      <td>12819</td>\n",
       "      <td>Alpha and Omega</td>\n",
       "      <td>12.300789</td>\n",
       "      <td>2010-09-17</td>\n",
       "    </tr>\n",
       "  </tbody>\n",
       "</table>\n",
       "</div>"
      ],
      "text/plain": [
       "      id                 title  popularity release_date\n",
       "0    257          Oliver Twist   20.415572   2005-09-23\n",
       "1  14290  Better Luck Tomorrow    3.877036   2002-01-12\n",
       "2  38365             Grown Ups   38.864027   2010-06-24\n",
       "3   9672              Infamous    3.680896   2006-11-16\n",
       "4  12819       Alpha and Omega   12.300789   2010-09-17"
      ]
     },
     "execution_count": 31,
     "metadata": {},
     "output_type": "execute_result"
    }
   ],
   "source": [
    "movies = pickle.load( open( \"datasets/movies.p\", \"rb\" ) )\n",
    "movies.head()"
   ]
  },
  {
   "cell_type": "code",
   "execution_count": 32,
   "id": "a71f367f",
   "metadata": {},
   "outputs": [
    {
     "data": {
      "text/html": [
       "<div>\n",
       "<style scoped>\n",
       "    .dataframe tbody tr th:only-of-type {\n",
       "        vertical-align: middle;\n",
       "    }\n",
       "\n",
       "    .dataframe tbody tr th {\n",
       "        vertical-align: top;\n",
       "    }\n",
       "\n",
       "    .dataframe thead th {\n",
       "        text-align: right;\n",
       "    }\n",
       "</style>\n",
       "<table border=\"1\" class=\"dataframe\">\n",
       "  <thead>\n",
       "    <tr style=\"text-align: right;\">\n",
       "      <th></th>\n",
       "      <th>id</th>\n",
       "      <th>budget</th>\n",
       "      <th>revenue</th>\n",
       "    </tr>\n",
       "  </thead>\n",
       "  <tbody>\n",
       "    <tr>\n",
       "      <th>0</th>\n",
       "      <td>19995</td>\n",
       "      <td>237000000</td>\n",
       "      <td>2.787965e+09</td>\n",
       "    </tr>\n",
       "    <tr>\n",
       "      <th>1</th>\n",
       "      <td>285</td>\n",
       "      <td>300000000</td>\n",
       "      <td>9.610000e+08</td>\n",
       "    </tr>\n",
       "    <tr>\n",
       "      <th>2</th>\n",
       "      <td>206647</td>\n",
       "      <td>245000000</td>\n",
       "      <td>8.806746e+08</td>\n",
       "    </tr>\n",
       "    <tr>\n",
       "      <th>3</th>\n",
       "      <td>49026</td>\n",
       "      <td>250000000</td>\n",
       "      <td>1.084939e+09</td>\n",
       "    </tr>\n",
       "    <tr>\n",
       "      <th>4</th>\n",
       "      <td>49529</td>\n",
       "      <td>260000000</td>\n",
       "      <td>2.841391e+08</td>\n",
       "    </tr>\n",
       "  </tbody>\n",
       "</table>\n",
       "</div>"
      ],
      "text/plain": [
       "       id     budget       revenue\n",
       "0   19995  237000000  2.787965e+09\n",
       "1     285  300000000  9.610000e+08\n",
       "2  206647  245000000  8.806746e+08\n",
       "3   49026  250000000  1.084939e+09\n",
       "4   49529  260000000  2.841391e+08"
      ]
     },
     "execution_count": 32,
     "metadata": {},
     "output_type": "execute_result"
    }
   ],
   "source": [
    "financials = pickle.load( open( \"datasets/financials.p\", \"rb\" ) )\n",
    "financials.head()"
   ]
  },
  {
   "cell_type": "code",
   "execution_count": 33,
   "id": "62572fb7",
   "metadata": {},
   "outputs": [
    {
     "name": "stdout",
     "output_type": "stream",
     "text": [
      "1574\n"
     ]
    }
   ],
   "source": [
    "# Merge the movies table with the financials table with a left join\n",
    "movies_financials = movies.merge(financials, on='id', how='left')\n",
    "\n",
    "# Count the number of rows in the budget column that are missing\n",
    "number_of_missing_fin = movies_financials['budget'].isnull().sum()\n",
    "\n",
    "# Print the number of movies missing financials\n",
    "print(number_of_missing_fin)"
   ]
  },
  {
   "cell_type": "markdown",
   "id": "15a542da",
   "metadata": {},
   "source": [
    "### Enriching a dataset\n",
    "Setting how='left' with the .merge()method is a useful technique for enriching or enhancing a dataset with additional information from a different table. In this exercise, you will start off with a sample of movie data from the movie series Toy Story. Your goal is to enrich this data by adding the marketing tag line for each movie. You will compare the results of a left join versus an inner join."
   ]
  },
  {
   "cell_type": "code",
   "execution_count": 34,
   "id": "dd29b753",
   "metadata": {},
   "outputs": [
    {
     "name": "stderr",
     "output_type": "stream",
     "text": [
      "UsageError: Line magic function `%%script` not found.\n"
     ]
    }
   ],
   "source": [
    "#No Toy Story dataset\n",
    "\n",
    "\n",
    "# Merge the toy_story and taglines tables with a left join\n",
    "toystory_tag = toy_story.merge(taglines, on=\"id\", how=\"left\")\n",
    "\n",
    "# Print the rows and shape of toystory_tag\n",
    "print(toystory_tag)\n",
    "print(toystory_tag.shape)"
   ]
  },
  {
   "cell_type": "code",
   "execution_count": null,
   "id": "ace3104b",
   "metadata": {},
   "outputs": [],
   "source": [
    "#No Toy Story dataset\n",
    "\n",
    "\n",
    "# Merge the toy_story and taglines tables with a inner join\n",
    "toystory_tag = toy_story.merge(taglines, on=\"id\")\n",
    "\n",
    "# Print the rows and shape of toystory_tag\n",
    "print(toystory_tag)\n",
    "print(toystory_tag.shape)"
   ]
  },
  {
   "cell_type": "markdown",
   "id": "cd149d7e",
   "metadata": {},
   "source": [
    "### Right join to find unique movies\n",
    "Most of the recent big-budget science fiction movies can also be classified as action movies. You are given a table of science fiction movies called scifi_movies and another table of action movies called action_movies. Your goal is to find which movies are considered only science fiction movies. Once you have this table, you can merge the movies table in to see the movie names. Since this exercise is related to science fiction movies, use a right join as your superhero power to solve this problem."
   ]
  },
  {
   "cell_type": "code",
   "execution_count": 36,
   "id": "73be43f3",
   "metadata": {},
   "outputs": [
    {
     "data": {
      "text/html": [
       "<div>\n",
       "<style scoped>\n",
       "    .dataframe tbody tr th:only-of-type {\n",
       "        vertical-align: middle;\n",
       "    }\n",
       "\n",
       "    .dataframe tbody tr th {\n",
       "        vertical-align: top;\n",
       "    }\n",
       "\n",
       "    .dataframe thead th {\n",
       "        text-align: right;\n",
       "    }\n",
       "</style>\n",
       "<table border=\"1\" class=\"dataframe\">\n",
       "  <thead>\n",
       "    <tr style=\"text-align: right;\">\n",
       "      <th></th>\n",
       "      <th>movie_id</th>\n",
       "      <th>genre</th>\n",
       "    </tr>\n",
       "  </thead>\n",
       "  <tbody>\n",
       "    <tr>\n",
       "      <th>0</th>\n",
       "      <td>5</td>\n",
       "      <td>Crime</td>\n",
       "    </tr>\n",
       "    <tr>\n",
       "      <th>1</th>\n",
       "      <td>5</td>\n",
       "      <td>Comedy</td>\n",
       "    </tr>\n",
       "    <tr>\n",
       "      <th>2</th>\n",
       "      <td>11</td>\n",
       "      <td>Science Fiction</td>\n",
       "    </tr>\n",
       "    <tr>\n",
       "      <th>3</th>\n",
       "      <td>11</td>\n",
       "      <td>Action</td>\n",
       "    </tr>\n",
       "    <tr>\n",
       "      <th>4</th>\n",
       "      <td>11</td>\n",
       "      <td>Adventure</td>\n",
       "    </tr>\n",
       "  </tbody>\n",
       "</table>\n",
       "</div>"
      ],
      "text/plain": [
       "   movie_id            genre\n",
       "0         5            Crime\n",
       "1         5           Comedy\n",
       "2        11  Science Fiction\n",
       "3        11           Action\n",
       "4        11        Adventure"
      ]
     },
     "execution_count": 36,
     "metadata": {},
     "output_type": "execute_result"
    }
   ],
   "source": [
    "movie_to_genres = pickle.load( open( \"datasets/movie_to_genres.p\", \"rb\" ) )\n",
    "movie_to_genres.head()"
   ]
  },
  {
   "cell_type": "code",
   "execution_count": 37,
   "id": "7fa66982",
   "metadata": {},
   "outputs": [
    {
     "data": {
      "text/html": [
       "<div>\n",
       "<style scoped>\n",
       "    .dataframe tbody tr th:only-of-type {\n",
       "        vertical-align: middle;\n",
       "    }\n",
       "\n",
       "    .dataframe tbody tr th {\n",
       "        vertical-align: top;\n",
       "    }\n",
       "\n",
       "    .dataframe thead th {\n",
       "        text-align: right;\n",
       "    }\n",
       "</style>\n",
       "<table border=\"1\" class=\"dataframe\">\n",
       "  <thead>\n",
       "    <tr style=\"text-align: right;\">\n",
       "      <th></th>\n",
       "      <th>movie_id</th>\n",
       "      <th>genre</th>\n",
       "    </tr>\n",
       "  </thead>\n",
       "  <tbody>\n",
       "    <tr>\n",
       "      <th>2</th>\n",
       "      <td>11</td>\n",
       "      <td>Science Fiction</td>\n",
       "    </tr>\n",
       "    <tr>\n",
       "      <th>17</th>\n",
       "      <td>18</td>\n",
       "      <td>Science Fiction</td>\n",
       "    </tr>\n",
       "    <tr>\n",
       "      <th>20</th>\n",
       "      <td>19</td>\n",
       "      <td>Science Fiction</td>\n",
       "    </tr>\n",
       "    <tr>\n",
       "      <th>38</th>\n",
       "      <td>38</td>\n",
       "      <td>Science Fiction</td>\n",
       "    </tr>\n",
       "    <tr>\n",
       "      <th>49</th>\n",
       "      <td>62</td>\n",
       "      <td>Science Fiction</td>\n",
       "    </tr>\n",
       "  </tbody>\n",
       "</table>\n",
       "</div>"
      ],
      "text/plain": [
       "    movie_id            genre\n",
       "2         11  Science Fiction\n",
       "17        18  Science Fiction\n",
       "20        19  Science Fiction\n",
       "38        38  Science Fiction\n",
       "49        62  Science Fiction"
      ]
     },
     "execution_count": 37,
     "metadata": {},
     "output_type": "execute_result"
    }
   ],
   "source": [
    "scifi_movies = movie_to_genres[movie_to_genres[\"genre\"]== \"Science Fiction\"]\n",
    "scifi_movies.head()"
   ]
  },
  {
   "cell_type": "code",
   "execution_count": 40,
   "id": "35a2e0f6",
   "metadata": {},
   "outputs": [
    {
     "data": {
      "text/html": [
       "<div>\n",
       "<style scoped>\n",
       "    .dataframe tbody tr th:only-of-type {\n",
       "        vertical-align: middle;\n",
       "    }\n",
       "\n",
       "    .dataframe tbody tr th {\n",
       "        vertical-align: top;\n",
       "    }\n",
       "\n",
       "    .dataframe thead th {\n",
       "        text-align: right;\n",
       "    }\n",
       "</style>\n",
       "<table border=\"1\" class=\"dataframe\">\n",
       "  <thead>\n",
       "    <tr style=\"text-align: right;\">\n",
       "      <th></th>\n",
       "      <th>movie_id</th>\n",
       "      <th>genre</th>\n",
       "    </tr>\n",
       "  </thead>\n",
       "  <tbody>\n",
       "    <tr>\n",
       "      <th>3</th>\n",
       "      <td>11</td>\n",
       "      <td>Action</td>\n",
       "    </tr>\n",
       "    <tr>\n",
       "      <th>14</th>\n",
       "      <td>18</td>\n",
       "      <td>Action</td>\n",
       "    </tr>\n",
       "    <tr>\n",
       "      <th>25</th>\n",
       "      <td>22</td>\n",
       "      <td>Action</td>\n",
       "    </tr>\n",
       "    <tr>\n",
       "      <th>26</th>\n",
       "      <td>24</td>\n",
       "      <td>Action</td>\n",
       "    </tr>\n",
       "    <tr>\n",
       "      <th>42</th>\n",
       "      <td>58</td>\n",
       "      <td>Action</td>\n",
       "    </tr>\n",
       "  </tbody>\n",
       "</table>\n",
       "</div>"
      ],
      "text/plain": [
       "    movie_id   genre\n",
       "3         11  Action\n",
       "14        18  Action\n",
       "25        22  Action\n",
       "26        24  Action\n",
       "42        58  Action"
      ]
     },
     "execution_count": 40,
     "metadata": {},
     "output_type": "execute_result"
    }
   ],
   "source": [
    "action_movies = movie_to_genres[movie_to_genres[\"genre\"]== \"Action\"]\n",
    "action_movies.head()"
   ]
  },
  {
   "cell_type": "code",
   "execution_count": 39,
   "id": "08ff949f",
   "metadata": {},
   "outputs": [
    {
     "name": "stdout",
     "output_type": "stream",
     "text": [
      "      id                         title  popularity release_date  movie_id  \\\n",
      "0  18841  The Lost Skeleton of Cadavra    1.680525   2001-09-12     18841   \n",
      "1  26672     The Thief and the Cobbler    2.439184   1993-09-23     26672   \n",
      "2  15301      Twilight Zone: The Movie   12.902975   1983-06-24     15301   \n",
      "3   8452                   The 6th Day   18.447479   2000-11-17      8452   \n",
      "4   1649    Bill & Ted's Bogus Journey   11.349664   1991-07-19      1649   \n",
      "\n",
      "  genre_act        genre_sci  \n",
      "0       NaN  Science Fiction  \n",
      "1       NaN  Science Fiction  \n",
      "2       NaN  Science Fiction  \n",
      "3       NaN  Science Fiction  \n",
      "4       NaN  Science Fiction  \n",
      "(258, 7)\n"
     ]
    }
   ],
   "source": [
    "# Merge action_movies to the scifi_movies with right join\n",
    "action_scifi = action_movies.merge(scifi_movies, on='movie_id', how='right',\n",
    "                                   suffixes=('_act','_sci'))\n",
    "\n",
    "# From action_scifi, select only the rows where the genre_act column is null\n",
    "scifi_only = action_scifi[action_scifi['genre_act'].isnull()]\n",
    "\n",
    "# Merge the movies and scifi_only tables with an inner join\n",
    "movies_and_scifi_only = movies.merge(scifi_only, left_on=\"id\", right_on=\"movie_id\")\n",
    "\n",
    "# Print the first few rows and shape of movies_and_scifi_only\n",
    "print(movies_and_scifi_only.head())\n",
    "print(movies_and_scifi_only.shape)"
   ]
  },
  {
   "cell_type": "markdown",
   "id": "347280f7",
   "metadata": {},
   "source": [
    "### Popular genres with right join\n",
    "What are the genres of the most popular movies? To answer this question, you need to merge data from the movies and movie_to_genres tables. In a table called pop_movies, the top 10 most popular movies in the movies table have been selected. To ensure that you are analyzing all of the popular movies, merge it with the movie_to_genres table using a right join. To complete your analysis, count the number of different genres. Also, the two tables can be merged by the movie ID. However, in pop_movies that column is called id, and in movies_to_genres it's called movie_id.\n",
    "\n"
   ]
  },
  {
   "cell_type": "code",
   "execution_count": null,
   "id": "feb3073e",
   "metadata": {},
   "outputs": [],
   "source": [
    "# No pop_movies genre\n",
    "\n",
    "# Use right join to merge the movie_to_genres and pop_movies tables\n",
    "genres_movies = movie_to_genres.merge(pop_movies, how='right', \n",
    "                                      left_on=\"movie_id\", \n",
    "                                      right_on=\"id\")\n",
    "\n",
    "# Count the number of genres\n",
    "genre_count = genres_movies.groupby('genre').agg({'id':'count'})\n",
    "\n",
    "# Plot a bar chart of the genre_count\n",
    "genre_count.plot(kind='bar')\n",
    "plt.show()"
   ]
  },
  {
   "cell_type": "markdown",
   "id": "0f1ffcd3",
   "metadata": {},
   "source": [
    "### Using outer join to select actors\n",
    "One cool aspect of using an outer join is that, because it returns all rows from both merged tables and null where they do not match, you can use it to find rows that do not have a match in the other table. To try for yourself, you have been given two tables with a list of actors from two popular movies: Iron Man 1 and Iron Man 2. Most of the actors played in both movies. Use an outer join to find actors who did not act in both movies.\n",
    "\n",
    "The Iron Man 1 table is called iron_1_actors, and Iron Man 2 table is called iron_2_actors. Both tables have been loaded for you and a few rows printed so you can see the structure."
   ]
  },
  {
   "cell_type": "code",
   "execution_count": null,
   "id": "0f6c1a0b",
   "metadata": {},
   "outputs": [],
   "source": [
    "# No iron man data :<\n",
    "\n",
    "# Merge iron_1_actors to iron_2_actors on id with outer join using suffixes\n",
    "iron_1_and_2 = iron_1_actors.merge(iron_2_actors,\n",
    "                                     on=\"id\",\n",
    "                                     how=\"outer\",\n",
    "                                     suffixes=('_1','_2'))\n",
    "\n",
    "# Create an index that returns true if name_1 or name_2 are null\n",
    "m = ((iron_1_and_2['name_1'].isnull()) | \n",
    "     (iron_1_and_2['name_2'].isnull()))\n",
    "\n",
    "# Print the first few rows of iron_1_and_2\n",
    "print(iron_1_and_2[m].head())"
   ]
  }
 ],
 "metadata": {
  "kernelspec": {
   "display_name": "Python 3",
   "language": "python",
   "name": "python3"
  },
  "language_info": {
   "codemirror_mode": {
    "name": "ipython",
    "version": 3
   },
   "file_extension": ".py",
   "mimetype": "text/x-python",
   "name": "python",
   "nbconvert_exporter": "python",
   "pygments_lexer": "ipython3",
   "version": "3.8.8"
  }
 },
 "nbformat": 4,
 "nbformat_minor": 5
}
